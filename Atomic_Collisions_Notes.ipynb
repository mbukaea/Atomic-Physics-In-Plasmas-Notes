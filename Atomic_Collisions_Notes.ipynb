{
 "cells": [
  {
   "cell_type": "code",
   "execution_count": 64,
   "id": "fe4e9a61-f904-47b5-8364-cc1d9e7ca3c2",
   "metadata": {
    "kernel": "R"
   },
   "outputs": [
    {
     "data": {
      "text/html": [
       "<iframe src=\"./Atomic_Collision_Processes_Report.html\" width=1500, height=4800 style=\"overflow:hidden\"></iframe> "
      ]
     },
     "metadata": {},
     "output_type": "display_data"
    }
   ],
   "source": [
    "library(knitr)  #Used to include graphics into R markdown\n",
    "library(rmarkdown) #Used to render rmarkdown from R script\n",
    "library(IRdisplay) #Used to display generated html\n",
    "library(reticulate) #Allows python code to be executed inside R\n",
    "\n",
    "rmarkdown::render(\"Atomic_Collision_Processes_Report.R\", quiet = TRUE) \n",
    "IRdisplay::display_html('<iframe src=\"./Atomic_Collision_Processes_Report.html\" width=1500, height=4800 style=\"overflow:hidden\"></iframe> ') "
   ]
  },
  {
   "cell_type": "code",
   "execution_count": null,
   "id": "fb85e5d3-2128-48f9-b194-b623131ce9e1",
   "metadata": {
    "kernel": "R"
   },
   "outputs": [],
   "source": []
  },
  {
   "cell_type": "code",
   "execution_count": null,
   "id": "e82f37be-7f5d-4e48-a9a0-b06a4f379a65",
   "metadata": {
    "kernel": "R"
   },
   "outputs": [],
   "source": []
  }
 ],
 "metadata": {
  "kernelspec": {
   "display_name": "SoS",
   "language": "sos",
   "name": "sos"
  },
  "language_info": {
   "codemirror_mode": "sos",
   "file_extension": ".sos",
   "mimetype": "text/x-sos",
   "name": "sos",
   "nbconvert_exporter": "sos_notebook.converter.SoS_Exporter",
   "pygments_lexer": "sos"
  },
  "latex_envs": {
   "LaTeX_envs_menu_present": true,
   "autoclose": false,
   "autocomplete": true,
   "bibliofile": "biblio.bib",
   "cite_by": "apalike",
   "current_citInitial": 1,
   "eqLabelWithNumbers": true,
   "eqNumInitial": 1,
   "hotkeys": {
    "equation": "Ctrl-E",
    "itemize": "Ctrl-I"
   },
   "labels_anchors": false,
   "latex_user_defs": false,
   "report_style_numbering": false,
   "user_envs_cfg": false
  },
  "sos": {
   "kernels": [
    [
     "Python3",
     "python3",
     "Python3",
     "#FFD91A",
     ""
    ],
    [
     "R",
     "ir",
     "R",
     "#DCDCDA",
     "r"
    ]
   ],
   "panel": {
    "displayed": false,
    "height": 0
   },
   "version": "0.24.4"
  }
 },
 "nbformat": 4,
 "nbformat_minor": 5
}
