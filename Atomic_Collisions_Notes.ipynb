{
 "cells": [
  {
   "cell_type": "code",
   "execution_count": null,
   "id": "fe4e9a61-f904-47b5-8364-cc1d9e7ca3c2",
   "metadata": {
    "kernel": "R"
   },
   "outputs": [],
   "source": [
    "library(knitr)  #Used to include graphics into R markdown\n",
    "library(rmarkdown) #Used to render rmarkdown from R script\n",
    "library(IRdisplay) #Used to display generated html\n",
    "library(reticulate) #Allows python code to be executed inside R\n",
    "\n",
    "knitr::spin('Atomic_Collision_Processes_Report.R', knit = FALSE , report = TRUE)\n",
    "bookdown::render_book(input=\"Atomic_Collision_Processes_Report.Rmd\", \"bookdown::gitbook\" ,quiet = TRUE)\n",
    "IRdisplay::display_html('<iframe src=\"./_book/atomic-processes-in-plasma.html\" width=1500, height=4800 style=\"overflow:hidden\"></iframe> ') "
   ]
  },
  {
   "cell_type": "code",
   "execution_count": null,
   "id": "b357ab80-69ce-4611-be18-d120f53ff6af",
   "metadata": {
    "kernel": "Bash"
   },
   "outputs": [],
   "source": []
  },
  {
   "cell_type": "code",
   "execution_count": null,
   "id": "daccca84-c699-4dbc-a033-86b625b64833",
   "metadata": {
    "kernel": "Bash"
   },
   "outputs": [],
   "source": []
  }
 ],
 "metadata": {
  "kernelspec": {
   "display_name": "SoS",
   "language": "sos",
   "name": "sos"
  },
  "language_info": {
   "codemirror_mode": "sos",
   "file_extension": ".sos",
   "mimetype": "text/x-sos",
   "name": "sos",
   "nbconvert_exporter": "sos_notebook.converter.SoS_Exporter",
   "pygments_lexer": "sos"
  },
  "latex_envs": {
   "LaTeX_envs_menu_present": true,
   "autoclose": false,
   "autocomplete": true,
   "bibliofile": "biblio.bib",
   "cite_by": "apalike",
   "current_citInitial": 1,
   "eqLabelWithNumbers": true,
   "eqNumInitial": 1,
   "hotkeys": {
    "equation": "Ctrl-E",
    "itemize": "Ctrl-I"
   },
   "labels_anchors": false,
   "latex_user_defs": false,
   "report_style_numbering": false,
   "user_envs_cfg": false
  },
  "sos": {
   "kernels": [
    [
     "Python3",
     "python3",
     "Python3",
     "#FFD91A",
     ""
    ],
    [
     "R",
     "ir",
     "R",
     "#DCDCDA",
     "r"
    ]
   ],
   "panel": {
    "displayed": false,
    "height": 0
   },
   "version": "0.24.4"
  }
 },
 "nbformat": 4,
 "nbformat_minor": 5
}
